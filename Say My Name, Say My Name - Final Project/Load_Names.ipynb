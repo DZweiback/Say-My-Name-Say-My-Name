{
 "cells": [
  {
   "cell_type": "code",
   "execution_count": 1,
   "metadata": {},
   "outputs": [],
   "source": [
    "# Load_Names Procedure\n",
    "import pandas as pd\n",
    "import time\n",
    "import datetime\n",
    "import numpy as np\n",
    "import os\n",
    "import glob"
   ]
  },
  {
   "cell_type": "code",
   "execution_count": 2,
   "metadata": {},
   "outputs": [],
   "source": [
    "fileList=glob.glob(\"*.txt\")\n",
    "#def addField(fileList):\n",
    "for filename in fileList:\n",
    "    #print(filename)\n",
    "    df=pd.read_csv(filename, header=None)           \n",
    "    df['yr']=[filename.rsplit(\"b\",1)[1]]*df.shape[0]\n",
    "    #print(df['yr'])\n",
    "    df.to_csv(filename+\".csv\", index=None, header=None)"
   ]
  },
  {
   "cell_type": "code",
   "execution_count": null,
   "metadata": {},
   "outputs": [],
   "source": [
    "#fileList=glob.glob(\"*.txt\")\n",
    "##def addField(fileList):\n",
    "#for filename in fileList:\n",
    "    #print(filename)\n",
    "    #df=pd.read_csv(filename, header=None)           \n",
    "    #df['yr']=[filename.rsplit(\"b\",1)[1]]*df.shape[0]\n",
    "    #print(df['yr'])\n",
    "    #yr=df['yr']\n",
    "    #print(yr)\n",
    "    #for y in yr:\n",
    "        #df[\"Year\"]=[y.rsplit(\".\",1)[0]]*df.shape[0]\n",
    "        #print(df[\"Year\"])\n",
    "        #df.to_csv(filename+\".csv\", index=None, header=None)"
   ]
  },
  {
   "cell_type": "code",
   "execution_count": null,
   "metadata": {},
   "outputs": [],
   "source": [
    "#def concatenate(indir=\"C:Names\", outfile=\"C:Concatenated.csv\"):\n",
    "    #os.chdir(indir) #set current directory to input directory\n",
    "    #fileList=glob.glob(\"*.csv\")\n",
    "    #dfList=[] # create an empty list\n",
    "    #Year = 2017\n",
    "    #colnames=['Name', 'Gender', 'Count', 'Year']\n",
    "    #for filename in fileList:\n",
    "        #print(filename)\n",
    "        #df=pandas.read_csv(filename, header=None)\n",
    "        #dfList.append(df)\n",
    "    #concatDf=pandas.concat(dfList, axis=0)\n",
    "    #concatDf.columns=colnames\n",
    "    #concatDf.to_csv(outfile) #pass the dataframe to a .csv file    "
   ]
  },
  {
   "cell_type": "code",
   "execution_count": 8,
   "metadata": {},
   "outputs": [
    {
     "name": "stdout",
     "output_type": "stream",
     "text": [
      "yob1960.txt.csv\n",
      "yob1961.txt.csv\n",
      "yob1962.txt.csv\n",
      "yob1963.txt.csv\n",
      "yob1964.txt.csv\n",
      "yob1965.txt.csv\n",
      "yob1966.txt.csv\n",
      "yob1967.txt.csv\n",
      "yob1968.txt.csv\n",
      "yob1969.txt.csv\n",
      "yob1970.txt.csv\n",
      "yob1971.txt.csv\n",
      "yob1972.txt.csv\n",
      "yob1973.txt.csv\n",
      "yob1974.txt.csv\n",
      "yob1975.txt.csv\n",
      "yob1976.txt.csv\n",
      "yob1977.txt.csv\n",
      "yob1978.txt.csv\n",
      "yob1979.txt.csv\n",
      "yob1980.txt.csv\n",
      "yob1981.txt.csv\n",
      "yob1982.txt.csv\n",
      "yob1983.txt.csv\n",
      "yob1984.txt.csv\n",
      "yob1985.txt.csv\n",
      "yob1986.txt.csv\n",
      "yob1987.txt.csv\n",
      "yob1988.txt.csv\n",
      "yob1989.txt.csv\n",
      "yob1990.txt.csv\n",
      "yob1991.txt.csv\n",
      "yob1992.txt.csv\n",
      "yob1993.txt.csv\n",
      "yob1994.txt.csv\n",
      "yob1995.txt.csv\n",
      "yob1996.txt.csv\n",
      "yob1997.txt.csv\n",
      "yob1998.txt.csv\n",
      "yob1999.txt.csv\n",
      "yob2000.txt.csv\n",
      "yob2001.txt.csv\n",
      "yob2002.txt.csv\n",
      "yob2003.txt.csv\n",
      "yob2004.txt.csv\n",
      "yob2005.txt.csv\n",
      "yob2006.txt.csv\n",
      "yob2007.txt.csv\n",
      "yob2008.txt.csv\n",
      "yob2009.txt.csv\n",
      "yob2010.txt.csv\n",
      "yob2011.txt.csv\n",
      "yob2012.txt.csv\n",
      "yob2013.txt.csv\n",
      "yob2014.txt.csv\n",
      "yob2015.txt.csv\n",
      "yob2016.txt.csv\n",
      "yob2017.txt.csv\n"
     ]
    }
   ],
   "source": [
    "outfile=\"C:Concatenated.csv\"\n",
    "fileList=glob.glob(\"*.csv\")\n",
    "dfList=[] # create an empty list\n",
    "colnames=['Name', 'Gender', 'Count', 'Year']\n",
    "for filename in fileList:\n",
    "    print(filename)\n",
    "    df=pd.read_csv(filename, header=None)\n",
    "    dfList.append(df)\n",
    "    concatDf=pd.concat(dfList, axis=0)\n",
    "    concatDf.columns=colnames\n",
    "    concatDf.to_csv(outfile) #pass the dataframe to a .csv file    "
   ]
  },
  {
   "cell_type": "code",
   "execution_count": null,
   "metadata": {},
   "outputs": [],
   "source": []
  }
 ],
 "metadata": {
  "kernelspec": {
   "display_name": "Python 3",
   "language": "python",
   "name": "python3"
  },
  "language_info": {
   "codemirror_mode": {
    "name": "ipython",
    "version": 3
   },
   "file_extension": ".py",
   "mimetype": "text/x-python",
   "name": "python",
   "nbconvert_exporter": "python",
   "pygments_lexer": "ipython3",
   "version": "3.7.0"
  }
 },
 "nbformat": 4,
 "nbformat_minor": 2
}
